{
 "cells": [
  {
   "cell_type": "markdown",
   "id": "ab439ce5",
   "metadata": {},
   "source": [
    "# Exploration du dataset"
   ]
  },
  {
   "cell_type": "markdown",
   "id": "862cbef1",
   "metadata": {},
   "source": [
    "## Import des premières librairies et exploration du fichier \"train.csv\""
   ]
  },
  {
   "cell_type": "code",
   "execution_count": 2,
   "id": "2b0b5f71",
   "metadata": {},
   "outputs": [],
   "source": [
    "import pandas as pd\n",
    "import numpy as np\n",
    "import matplotlib.pyplot as plt\n",
    "%matplotlib inline\n",
    "#import cv2\n",
    "import matplotlib.patches as patches"
   ]
  },
  {
   "cell_type": "code",
   "execution_count": 3,
   "id": "0ac3e09b",
   "metadata": {},
   "outputs": [
    {
     "data": {
      "text/html": [
       "<div>\n",
       "<style scoped>\n",
       "    .dataframe tbody tr th:only-of-type {\n",
       "        vertical-align: middle;\n",
       "    }\n",
       "\n",
       "    .dataframe tbody tr th {\n",
       "        vertical-align: top;\n",
       "    }\n",
       "\n",
       "    .dataframe thead th {\n",
       "        text-align: right;\n",
       "    }\n",
       "</style>\n",
       "<table border=\"1\" class=\"dataframe\">\n",
       "  <thead>\n",
       "    <tr style=\"text-align: right;\">\n",
       "      <th></th>\n",
       "      <th>Image_Label</th>\n",
       "      <th>EncodedPixels</th>\n",
       "    </tr>\n",
       "  </thead>\n",
       "  <tbody>\n",
       "    <tr>\n",
       "      <th>0</th>\n",
       "      <td>0011165.jpg_Fish</td>\n",
       "      <td>264918 937 266318 937 267718 937 269118 937 27...</td>\n",
       "    </tr>\n",
       "    <tr>\n",
       "      <th>1</th>\n",
       "      <td>0011165.jpg_Flower</td>\n",
       "      <td>1355565 1002 1356965 1002 1358365 1002 1359765...</td>\n",
       "    </tr>\n",
       "    <tr>\n",
       "      <th>2</th>\n",
       "      <td>0011165.jpg_Gravel</td>\n",
       "      <td>NaN</td>\n",
       "    </tr>\n",
       "    <tr>\n",
       "      <th>3</th>\n",
       "      <td>0011165.jpg_Sugar</td>\n",
       "      <td>NaN</td>\n",
       "    </tr>\n",
       "    <tr>\n",
       "      <th>4</th>\n",
       "      <td>002be4f.jpg_Fish</td>\n",
       "      <td>233813 878 235213 878 236613 878 238010 881 23...</td>\n",
       "    </tr>\n",
       "    <tr>\n",
       "      <th>5</th>\n",
       "      <td>002be4f.jpg_Flower</td>\n",
       "      <td>1339279 519 1340679 519 1342079 519 1343479 51...</td>\n",
       "    </tr>\n",
       "    <tr>\n",
       "      <th>6</th>\n",
       "      <td>002be4f.jpg_Gravel</td>\n",
       "      <td>NaN</td>\n",
       "    </tr>\n",
       "    <tr>\n",
       "      <th>7</th>\n",
       "      <td>002be4f.jpg_Sugar</td>\n",
       "      <td>67495 350 68895 350 70295 350 71695 350 73095 ...</td>\n",
       "    </tr>\n",
       "    <tr>\n",
       "      <th>8</th>\n",
       "      <td>0031ae9.jpg_Fish</td>\n",
       "      <td>3510 690 4910 690 6310 690 7710 690 9110 690 1...</td>\n",
       "    </tr>\n",
       "    <tr>\n",
       "      <th>9</th>\n",
       "      <td>0031ae9.jpg_Flower</td>\n",
       "      <td>2047 703 3447 703 4847 703 6247 703 7647 703 9...</td>\n",
       "    </tr>\n",
       "  </tbody>\n",
       "</table>\n",
       "</div>"
      ],
      "text/plain": [
       "          Image_Label                                      EncodedPixels\n",
       "0    0011165.jpg_Fish  264918 937 266318 937 267718 937 269118 937 27...\n",
       "1  0011165.jpg_Flower  1355565 1002 1356965 1002 1358365 1002 1359765...\n",
       "2  0011165.jpg_Gravel                                                NaN\n",
       "3   0011165.jpg_Sugar                                                NaN\n",
       "4    002be4f.jpg_Fish  233813 878 235213 878 236613 878 238010 881 23...\n",
       "5  002be4f.jpg_Flower  1339279 519 1340679 519 1342079 519 1343479 51...\n",
       "6  002be4f.jpg_Gravel                                                NaN\n",
       "7   002be4f.jpg_Sugar  67495 350 68895 350 70295 350 71695 350 73095 ...\n",
       "8    0031ae9.jpg_Fish  3510 690 4910 690 6310 690 7710 690 9110 690 1...\n",
       "9  0031ae9.jpg_Flower  2047 703 3447 703 4847 703 6247 703 7647 703 9..."
      ]
     },
     "execution_count": 3,
     "metadata": {},
     "output_type": "execute_result"
    }
   ],
   "source": [
    "df = pd.read_csv('train.csv')\n",
    "df.head(10)"
   ]
  },
  {
   "cell_type": "code",
   "execution_count": 4,
   "id": "60bea0f4",
   "metadata": {},
   "outputs": [
    {
     "data": {
      "text/plain": [
       "(22184, 2)"
      ]
     },
     "execution_count": 4,
     "metadata": {},
     "output_type": "execute_result"
    }
   ],
   "source": [
    "df.shape"
   ]
  },
  {
   "cell_type": "markdown",
   "id": "20e74716",
   "metadata": {},
   "source": [
    "On constate que notre dataframe est constitué de 2 colonnes.\n",
    "La première contient le nom de chaque image concaténé avec les labels. Il y a donc 4 observations par image.\n",
    "La seconde colonne contientles codes RLE pour déterminer un masque dans chaque image où une structure a été détectée.\n",
    "La présence d'un Nan indique qu'il n'y a pas de structure nuageuse détectée.\n",
    "22184 observations, 4 observations par image, on retrouve les 5546 images du train_set."
   ]
  },
  {
   "cell_type": "code",
   "execution_count": 5,
   "id": "373f85a6",
   "metadata": {},
   "outputs": [
    {
     "data": {
      "text/plain": [
       "Image_Label          0\n",
       "EncodedPixels    10348\n",
       "dtype: int64"
      ]
     },
     "execution_count": 5,
     "metadata": {},
     "output_type": "execute_result"
    }
   ],
   "source": [
    "df.isnull().sum()"
   ]
  },
  {
   "cell_type": "markdown",
   "id": "44653196",
   "metadata": {},
   "source": [
    "## Premières manipulations du dataset pour faciliter la visualisation"
   ]
  },
  {
   "cell_type": "markdown",
   "id": "6a3f04ed",
   "metadata": {},
   "source": [
    "Dans un premier temps, séparation du nom des images et des labels puis renommage des colonnes"
   ]
  },
  {
   "cell_type": "code",
   "execution_count": 6,
   "id": "c323dd53",
   "metadata": {},
   "outputs": [],
   "source": [
    "df1 = df['Image_Label'].str.split('_', expand = True)"
   ]
  },
  {
   "cell_type": "code",
   "execution_count": 7,
   "id": "df1d5634",
   "metadata": {},
   "outputs": [
    {
     "data": {
      "text/html": [
       "<div>\n",
       "<style scoped>\n",
       "    .dataframe tbody tr th:only-of-type {\n",
       "        vertical-align: middle;\n",
       "    }\n",
       "\n",
       "    .dataframe tbody tr th {\n",
       "        vertical-align: top;\n",
       "    }\n",
       "\n",
       "    .dataframe thead th {\n",
       "        text-align: right;\n",
       "    }\n",
       "</style>\n",
       "<table border=\"1\" class=\"dataframe\">\n",
       "  <thead>\n",
       "    <tr style=\"text-align: right;\">\n",
       "      <th></th>\n",
       "      <th>image</th>\n",
       "      <th>label</th>\n",
       "    </tr>\n",
       "  </thead>\n",
       "  <tbody>\n",
       "    <tr>\n",
       "      <th>0</th>\n",
       "      <td>0011165.jpg</td>\n",
       "      <td>Fish</td>\n",
       "    </tr>\n",
       "    <tr>\n",
       "      <th>1</th>\n",
       "      <td>0011165.jpg</td>\n",
       "      <td>Flower</td>\n",
       "    </tr>\n",
       "    <tr>\n",
       "      <th>2</th>\n",
       "      <td>0011165.jpg</td>\n",
       "      <td>Gravel</td>\n",
       "    </tr>\n",
       "    <tr>\n",
       "      <th>3</th>\n",
       "      <td>0011165.jpg</td>\n",
       "      <td>Sugar</td>\n",
       "    </tr>\n",
       "    <tr>\n",
       "      <th>4</th>\n",
       "      <td>002be4f.jpg</td>\n",
       "      <td>Fish</td>\n",
       "    </tr>\n",
       "  </tbody>\n",
       "</table>\n",
       "</div>"
      ],
      "text/plain": [
       "         image   label\n",
       "0  0011165.jpg    Fish\n",
       "1  0011165.jpg  Flower\n",
       "2  0011165.jpg  Gravel\n",
       "3  0011165.jpg   Sugar\n",
       "4  002be4f.jpg    Fish"
      ]
     },
     "execution_count": 7,
     "metadata": {},
     "output_type": "execute_result"
    }
   ],
   "source": [
    "dico = {0:'image', 1:'label'}\n",
    "df1 = df1.rename(dico, axis = 1)\n",
    "df1.head()"
   ]
  },
  {
   "cell_type": "code",
   "execution_count": 8,
   "id": "c01ea797",
   "metadata": {},
   "outputs": [
    {
     "data": {
      "text/html": [
       "<div>\n",
       "<style scoped>\n",
       "    .dataframe tbody tr th:only-of-type {\n",
       "        vertical-align: middle;\n",
       "    }\n",
       "\n",
       "    .dataframe tbody tr th {\n",
       "        vertical-align: top;\n",
       "    }\n",
       "\n",
       "    .dataframe thead th {\n",
       "        text-align: right;\n",
       "    }\n",
       "</style>\n",
       "<table border=\"1\" class=\"dataframe\">\n",
       "  <thead>\n",
       "    <tr style=\"text-align: right;\">\n",
       "      <th></th>\n",
       "      <th>image</th>\n",
       "      <th>label</th>\n",
       "      <th>EncodedPixels</th>\n",
       "    </tr>\n",
       "  </thead>\n",
       "  <tbody>\n",
       "    <tr>\n",
       "      <th>0</th>\n",
       "      <td>0011165.jpg</td>\n",
       "      <td>Fish</td>\n",
       "      <td>264918 937 266318 937 267718 937 269118 937 27...</td>\n",
       "    </tr>\n",
       "    <tr>\n",
       "      <th>1</th>\n",
       "      <td>0011165.jpg</td>\n",
       "      <td>Flower</td>\n",
       "      <td>1355565 1002 1356965 1002 1358365 1002 1359765...</td>\n",
       "    </tr>\n",
       "    <tr>\n",
       "      <th>2</th>\n",
       "      <td>0011165.jpg</td>\n",
       "      <td>Gravel</td>\n",
       "      <td>NaN</td>\n",
       "    </tr>\n",
       "    <tr>\n",
       "      <th>3</th>\n",
       "      <td>0011165.jpg</td>\n",
       "      <td>Sugar</td>\n",
       "      <td>NaN</td>\n",
       "    </tr>\n",
       "    <tr>\n",
       "      <th>4</th>\n",
       "      <td>002be4f.jpg</td>\n",
       "      <td>Fish</td>\n",
       "      <td>233813 878 235213 878 236613 878 238010 881 23...</td>\n",
       "    </tr>\n",
       "  </tbody>\n",
       "</table>\n",
       "</div>"
      ],
      "text/plain": [
       "         image   label                                      EncodedPixels\n",
       "0  0011165.jpg    Fish  264918 937 266318 937 267718 937 269118 937 27...\n",
       "1  0011165.jpg  Flower  1355565 1002 1356965 1002 1358365 1002 1359765...\n",
       "2  0011165.jpg  Gravel                                                NaN\n",
       "3  0011165.jpg   Sugar                                                NaN\n",
       "4  002be4f.jpg    Fish  233813 878 235213 878 236613 878 238010 881 23..."
      ]
     },
     "execution_count": 8,
     "metadata": {},
     "output_type": "execute_result"
    }
   ],
   "source": [
    "df1['EncodedPixels'] = df['EncodedPixels']\n",
    "df1.head()"
   ]
  },
  {
   "cell_type": "code",
   "execution_count": 9,
   "id": "f5a848ba",
   "metadata": {},
   "outputs": [
    {
     "data": {
      "text/plain": [
       "db4030a.jpg    4\n",
       "404f2ae.jpg    4\n",
       "3b9a844.jpg    4\n",
       "a0f699a.jpg    4\n",
       "ce6fb99.jpg    4\n",
       "              ..\n",
       "400b812.jpg    4\n",
       "1f9dc0a.jpg    4\n",
       "c2d77ea.jpg    4\n",
       "af408e8.jpg    4\n",
       "3cc849a.jpg    4\n",
       "Name: image, Length: 5546, dtype: int64"
      ]
     },
     "execution_count": 9,
     "metadata": {},
     "output_type": "execute_result"
    }
   ],
   "source": [
    "df1['image'].value_counts()"
   ]
  },
  {
   "cell_type": "markdown",
   "id": "664fce04",
   "metadata": {},
   "source": [
    "Ensuite, vérification de la quantité de chaque structure identifiée"
   ]
  },
  {
   "cell_type": "code",
   "execution_count": 10,
   "id": "834b2c17",
   "metadata": {},
   "outputs": [],
   "source": [
    "fish = df1[ df1['label']=='Fish' ].EncodedPixels.count()\n",
    "flower = df1[ df1['label']=='Flower' ].EncodedPixels.count()\n",
    "gravel = df1[ df1['label']=='Gravel' ].EncodedPixels.count()\n",
    "sugar = df1[ df1['label']=='Sugar' ].EncodedPixels.count()"
   ]
  },
  {
   "cell_type": "code",
   "execution_count": 11,
   "id": "abccfb4e",
   "metadata": {},
   "outputs": [
    {
     "name": "stdout",
     "output_type": "stream",
     "text": [
      "Nbe Fish = 2781\n",
      "Nbe Flower 2365\n",
      "Nbe Gravel 2939\n",
      "Nbe Sugar 3751\n"
     ]
    }
   ],
   "source": [
    "print('Nbe Fish =', fish)\n",
    "print('Nbe Flower', flower)\n",
    "print('Nbe Gravel', gravel)\n",
    "print('Nbe Sugar', sugar)"
   ]
  },
  {
   "cell_type": "markdown",
   "id": "beb299d8",
   "metadata": {},
   "source": [
    "Pour bien visualiser la répartition, création d'un diagramme"
   ]
  },
  {
   "cell_type": "code",
   "execution_count": 12,
   "id": "20f35f3d",
   "metadata": {},
   "outputs": [
    {
     "data": {
      "image/png": "[encoded data removed]",
      "text/plain": [
       "<Figure size 576x576 with 1 Axes>"
      ]
     },
     "metadata": {},
     "output_type": "display_data"
    }
   ],
   "source": [
    "plt.figure(figsize = (8,8))\n",
    "plt.pie(x = [fish, flower, gravel, sugar], labels = ['Fish', 'Flower', 'Gravel', 'Sugar'], autopct = lambda x: str(round(x,2))+'%')\n",
    "plt.legend()\n",
    "plt.title(\"Répartition des 4 labels dans le dataset\")\n",
    "plt.show();"
   ]
  },
  {
   "cell_type": "markdown",
   "id": "fea0463c",
   "metadata": {},
   "source": [
    "Etant donné le nombre de structures détectées, il est clair qu'une image contient souvent plusieurs strucutres.\n",
    "Cela va être vérifié par une opération de regroupement (\"groupby\") pour un décompte par image puis visualisation à l'aide d'un histogramme."
   ]
  },
  {
   "cell_type": "code",
   "execution_count": 13,
   "id": "778a2043",
   "metadata": {},
   "outputs": [
    {
     "data": {
      "text/plain": [
       "image\n",
       "0011165.jpg    2\n",
       "002be4f.jpg    3\n",
       "0031ae9.jpg    3\n",
       "0035239.jpg    2\n",
       "003994e.jpg    3\n",
       "              ..\n",
       "ffcedf2.jpg    1\n",
       "ffd11b6.jpg    2\n",
       "ffd3dfb.jpg    1\n",
       "ffd6680.jpg    2\n",
       "ffea4f4.jpg    1\n",
       "Name: EncodedPixels, Length: 5546, dtype: int64"
      ]
     },
     "execution_count": 13,
     "metadata": {},
     "output_type": "execute_result"
    }
   ],
   "source": [
    "labels_par_image = df1.groupby('image')['EncodedPixels'].count()\n",
    "labels_par_image"
   ]
  },
  {
   "cell_type": "code",
   "execution_count": 16,
   "id": "f4c4356e",
   "metadata": {},
   "outputs": [
    {
     "data": {
      "image/png": "[encoded data removed]",
      "text/plain": [
       "<Figure size 432x288 with 1 Axes>"
      ]
     },
     "metadata": {
      "needs_background": "light"
     },
     "output_type": "display_data"
    }
   ],
   "source": [
    "plt.hist(labels_par_image, bins = 4, range=(0.5,4.5), color = 'green', rwidth=0.5)\n",
    "plt.title(\"Répartition du nombre de labels par image\")\n",
    "plt.xlabel('Nbe formations par image')\n",
    "plt.ylabel(\"Nbe d'images contenant xlabel formations\");"
   ]
  },
  {
   "cell_type": "code",
   "execution_count": 26,
   "id": "229ee705",
   "metadata": {},
   "outputs": [],
   "source": [
    "#z = labels_par_image.value_counts(sort = False)\n",
    "#plt.bar([1,2,3,4], z, width = 0.5)"
   ]
  },
  {
   "cell_type": "markdown",
   "id": "5218bb75",
   "metadata": {},
   "source": [
    "On constate qu'en majorité une image contient 2 structures nuageuses. Viennent ensuite les images avec 3 structures puis seulement une. Finalement, peu d'images contiennent les 4."
   ]
  },
  {
   "cell_type": "code",
   "execution_count": 14,
   "id": "6ca1e5e1",
   "metadata": {},
   "outputs": [
    {
     "data": {
      "text/html": [
       "<div>\n",
       "<style scoped>\n",
       "    .dataframe tbody tr th:only-of-type {\n",
       "        vertical-align: middle;\n",
       "    }\n",
       "\n",
       "    .dataframe tbody tr th {\n",
       "        vertical-align: top;\n",
       "    }\n",
       "\n",
       "    .dataframe thead th {\n",
       "        text-align: right;\n",
       "    }\n",
       "</style>\n",
       "<table border=\"1\" class=\"dataframe\">\n",
       "  <thead>\n",
       "    <tr style=\"text-align: right;\">\n",
       "      <th></th>\n",
       "      <th>image</th>\n",
       "      <th>label</th>\n",
       "      <th>EncodedPixels</th>\n",
       "    </tr>\n",
       "  </thead>\n",
       "  <tbody>\n",
       "    <tr>\n",
       "      <th>0</th>\n",
       "      <td>0011165.jpg</td>\n",
       "      <td>Fish</td>\n",
       "      <td>264918 937 266318 937 267718 937 269118 937 27...</td>\n",
       "    </tr>\n",
       "    <tr>\n",
       "      <th>1</th>\n",
       "      <td>0011165.jpg</td>\n",
       "      <td>Flower</td>\n",
       "      <td>1355565 1002 1356965 1002 1358365 1002 1359765...</td>\n",
       "    </tr>\n",
       "    <tr>\n",
       "      <th>2</th>\n",
       "      <td>0011165.jpg</td>\n",
       "      <td>Gravel</td>\n",
       "      <td>NaN</td>\n",
       "    </tr>\n",
       "    <tr>\n",
       "      <th>3</th>\n",
       "      <td>0011165.jpg</td>\n",
       "      <td>Sugar</td>\n",
       "      <td>NaN</td>\n",
       "    </tr>\n",
       "    <tr>\n",
       "      <th>4</th>\n",
       "      <td>002be4f.jpg</td>\n",
       "      <td>Fish</td>\n",
       "      <td>233813 878 235213 878 236613 878 238010 881 23...</td>\n",
       "    </tr>\n",
       "    <tr>\n",
       "      <th>5</th>\n",
       "      <td>002be4f.jpg</td>\n",
       "      <td>Flower</td>\n",
       "      <td>1339279 519 1340679 519 1342079 519 1343479 51...</td>\n",
       "    </tr>\n",
       "    <tr>\n",
       "      <th>6</th>\n",
       "      <td>002be4f.jpg</td>\n",
       "      <td>Gravel</td>\n",
       "      <td>NaN</td>\n",
       "    </tr>\n",
       "    <tr>\n",
       "      <th>7</th>\n",
       "      <td>002be4f.jpg</td>\n",
       "      <td>Sugar</td>\n",
       "      <td>67495 350 68895 350 70295 350 71695 350 73095 ...</td>\n",
       "    </tr>\n",
       "    <tr>\n",
       "      <th>8</th>\n",
       "      <td>0031ae9.jpg</td>\n",
       "      <td>Fish</td>\n",
       "      <td>3510 690 4910 690 6310 690 7710 690 9110 690 1...</td>\n",
       "    </tr>\n",
       "    <tr>\n",
       "      <th>9</th>\n",
       "      <td>0031ae9.jpg</td>\n",
       "      <td>Flower</td>\n",
       "      <td>2047 703 3447 703 4847 703 6247 703 7647 703 9...</td>\n",
       "    </tr>\n",
       "    <tr>\n",
       "      <th>10</th>\n",
       "      <td>0031ae9.jpg</td>\n",
       "      <td>Gravel</td>\n",
       "      <td>NaN</td>\n",
       "    </tr>\n",
       "    <tr>\n",
       "      <th>11</th>\n",
       "      <td>0031ae9.jpg</td>\n",
       "      <td>Sugar</td>\n",
       "      <td>658170 388 659570 388 660970 388 662370 388 66...</td>\n",
       "    </tr>\n",
       "  </tbody>\n",
       "</table>\n",
       "</div>"
      ],
      "text/plain": [
       "          image   label                                      EncodedPixels\n",
       "0   0011165.jpg    Fish  264918 937 266318 937 267718 937 269118 937 27...\n",
       "1   0011165.jpg  Flower  1355565 1002 1356965 1002 1358365 1002 1359765...\n",
       "2   0011165.jpg  Gravel                                                NaN\n",
       "3   0011165.jpg   Sugar                                                NaN\n",
       "4   002be4f.jpg    Fish  233813 878 235213 878 236613 878 238010 881 23...\n",
       "5   002be4f.jpg  Flower  1339279 519 1340679 519 1342079 519 1343479 51...\n",
       "6   002be4f.jpg  Gravel                                                NaN\n",
       "7   002be4f.jpg   Sugar  67495 350 68895 350 70295 350 71695 350 73095 ...\n",
       "8   0031ae9.jpg    Fish  3510 690 4910 690 6310 690 7710 690 9110 690 1...\n",
       "9   0031ae9.jpg  Flower  2047 703 3447 703 4847 703 6247 703 7647 703 9...\n",
       "10  0031ae9.jpg  Gravel                                                NaN\n",
       "11  0031ae9.jpg   Sugar  658170 388 659570 388 660970 388 662370 388 66..."
      ]
     },
     "execution_count": 14,
     "metadata": {},
     "output_type": "execute_result"
    }
   ],
   "source": [
    "df1.head(12)"
   ]
  },
  {
   "cell_type": "markdown",
   "id": "70b21f64",
   "metadata": {},
   "source": [
    "La question que l'on peut maintenant se poser est de savoir s'il y a une corrélation entre ces différentes structures puisqu'en général, plusieurs sont présentes sur une même image. Pour cela, on va passer par une heatmap."
   ]
  },
  {
   "cell_type": "markdown",
   "id": "b4492b15",
   "metadata": {},
   "source": [
    "Il nous faut d'abord transformer nos labels en variables indicatrices."
   ]
  },
  {
   "cell_type": "code",
   "execution_count": 15,
   "id": "72a8694d",
   "metadata": {},
   "outputs": [
    {
     "data": {
      "text/html": [
       "<div>\n",
       "<style scoped>\n",
       "    .dataframe tbody tr th:only-of-type {\n",
       "        vertical-align: middle;\n",
       "    }\n",
       "\n",
       "    .dataframe tbody tr th {\n",
       "        vertical-align: top;\n",
       "    }\n",
       "\n",
       "    .dataframe thead th {\n",
       "        text-align: right;\n",
       "    }\n",
       "</style>\n",
       "<table border=\"1\" class=\"dataframe\">\n",
       "  <thead>\n",
       "    <tr style=\"text-align: right;\">\n",
       "      <th></th>\n",
       "      <th>image</th>\n",
       "      <th>EncodedPixels</th>\n",
       "      <th>label_Fish</th>\n",
       "      <th>label_Flower</th>\n",
       "      <th>label_Gravel</th>\n",
       "      <th>label_Sugar</th>\n",
       "    </tr>\n",
       "  </thead>\n",
       "  <tbody>\n",
       "    <tr>\n",
       "      <th>0</th>\n",
       "      <td>0011165.jpg</td>\n",
       "      <td>264918 937 266318 937 267718 937 269118 937 27...</td>\n",
       "      <td>1</td>\n",
       "      <td>0</td>\n",
       "      <td>0</td>\n",
       "      <td>0</td>\n",
       "    </tr>\n",
       "    <tr>\n",
       "      <th>1</th>\n",
       "      <td>0011165.jpg</td>\n",
       "      <td>1355565 1002 1356965 1002 1358365 1002 1359765...</td>\n",
       "      <td>0</td>\n",
       "      <td>1</td>\n",
       "      <td>0</td>\n",
       "      <td>0</td>\n",
       "    </tr>\n",
       "    <tr>\n",
       "      <th>2</th>\n",
       "      <td>0011165.jpg</td>\n",
       "      <td>NaN</td>\n",
       "      <td>0</td>\n",
       "      <td>0</td>\n",
       "      <td>1</td>\n",
       "      <td>0</td>\n",
       "    </tr>\n",
       "    <tr>\n",
       "      <th>3</th>\n",
       "      <td>0011165.jpg</td>\n",
       "      <td>NaN</td>\n",
       "      <td>0</td>\n",
       "      <td>0</td>\n",
       "      <td>0</td>\n",
       "      <td>1</td>\n",
       "    </tr>\n",
       "    <tr>\n",
       "      <th>4</th>\n",
       "      <td>002be4f.jpg</td>\n",
       "      <td>233813 878 235213 878 236613 878 238010 881 23...</td>\n",
       "      <td>1</td>\n",
       "      <td>0</td>\n",
       "      <td>0</td>\n",
       "      <td>0</td>\n",
       "    </tr>\n",
       "    <tr>\n",
       "      <th>5</th>\n",
       "      <td>002be4f.jpg</td>\n",
       "      <td>1339279 519 1340679 519 1342079 519 1343479 51...</td>\n",
       "      <td>0</td>\n",
       "      <td>1</td>\n",
       "      <td>0</td>\n",
       "      <td>0</td>\n",
       "    </tr>\n",
       "    <tr>\n",
       "      <th>6</th>\n",
       "      <td>002be4f.jpg</td>\n",
       "      <td>NaN</td>\n",
       "      <td>0</td>\n",
       "      <td>0</td>\n",
       "      <td>1</td>\n",
       "      <td>0</td>\n",
       "    </tr>\n",
       "    <tr>\n",
       "      <th>7</th>\n",
       "      <td>002be4f.jpg</td>\n",
       "      <td>67495 350 68895 350 70295 350 71695 350 73095 ...</td>\n",
       "      <td>0</td>\n",
       "      <td>0</td>\n",
       "      <td>0</td>\n",
       "      <td>1</td>\n",
       "    </tr>\n",
       "    <tr>\n",
       "      <th>8</th>\n",
       "      <td>0031ae9.jpg</td>\n",
       "      <td>3510 690 4910 690 6310 690 7710 690 9110 690 1...</td>\n",
       "      <td>1</td>\n",
       "      <td>0</td>\n",
       "      <td>0</td>\n",
       "      <td>0</td>\n",
       "    </tr>\n",
       "    <tr>\n",
       "      <th>9</th>\n",
       "      <td>0031ae9.jpg</td>\n",
       "      <td>2047 703 3447 703 4847 703 6247 703 7647 703 9...</td>\n",
       "      <td>0</td>\n",
       "      <td>1</td>\n",
       "      <td>0</td>\n",
       "      <td>0</td>\n",
       "    </tr>\n",
       "    <tr>\n",
       "      <th>10</th>\n",
       "      <td>0031ae9.jpg</td>\n",
       "      <td>NaN</td>\n",
       "      <td>0</td>\n",
       "      <td>0</td>\n",
       "      <td>1</td>\n",
       "      <td>0</td>\n",
       "    </tr>\n",
       "    <tr>\n",
       "      <th>11</th>\n",
       "      <td>0031ae9.jpg</td>\n",
       "      <td>658170 388 659570 388 660970 388 662370 388 66...</td>\n",
       "      <td>0</td>\n",
       "      <td>0</td>\n",
       "      <td>0</td>\n",
       "      <td>1</td>\n",
       "    </tr>\n",
       "  </tbody>\n",
       "</table>\n",
       "</div>"
      ],
      "text/plain": [
       "          image                                      EncodedPixels  \\\n",
       "0   0011165.jpg  264918 937 266318 937 267718 937 269118 937 27...   \n",
       "1   0011165.jpg  1355565 1002 1356965 1002 1358365 1002 1359765...   \n",
       "2   0011165.jpg                                                NaN   \n",
       "3   0011165.jpg                                                NaN   \n",
       "4   002be4f.jpg  233813 878 235213 878 236613 878 238010 881 23...   \n",
       "5   002be4f.jpg  1339279 519 1340679 519 1342079 519 1343479 51...   \n",
       "6   002be4f.jpg                                                NaN   \n",
       "7   002be4f.jpg  67495 350 68895 350 70295 350 71695 350 73095 ...   \n",
       "8   0031ae9.jpg  3510 690 4910 690 6310 690 7710 690 9110 690 1...   \n",
       "9   0031ae9.jpg  2047 703 3447 703 4847 703 6247 703 7647 703 9...   \n",
       "10  0031ae9.jpg                                                NaN   \n",
       "11  0031ae9.jpg  658170 388 659570 388 660970 388 662370 388 66...   \n",
       "\n",
       "    label_Fish  label_Flower  label_Gravel  label_Sugar  \n",
       "0            1             0             0            0  \n",
       "1            0             1             0            0  \n",
       "2            0             0             1            0  \n",
       "3            0             0             0            1  \n",
       "4            1             0             0            0  \n",
       "5            0             1             0            0  \n",
       "6            0             0             1            0  \n",
       "7            0             0             0            1  \n",
       "8            1             0             0            0  \n",
       "9            0             1             0            0  \n",
       "10           0             0             1            0  \n",
       "11           0             0             0            1  "
      ]
     },
     "execution_count": 15,
     "metadata": {},
     "output_type": "execute_result"
    }
   ],
   "source": [
    "corr_df = pd.get_dummies(df1, columns = ['label'])\n",
    "corr_df['image'] = df1['image']\n",
    "corr_df.head(12)"
   ]
  },
  {
   "cell_type": "markdown",
   "id": "401b8f8d",
   "metadata": {},
   "source": [
    "On constate que pour chaque image, les variables indicatrices sont à 1 pour chaque structure alors que la colonne 'EncodedPixels' nous informe qu'il n'y a pas de structure à certains moments."
   ]
  },
  {
   "cell_type": "code",
   "execution_count": 16,
   "id": "25b2db12",
   "metadata": {},
   "outputs": [
    {
     "data": {
      "text/plain": [
       "0        False\n",
       "1        False\n",
       "2         True\n",
       "3         True\n",
       "4        False\n",
       "         ...  \n",
       "22179     True\n",
       "22180     True\n",
       "22181    False\n",
       "22182     True\n",
       "22183     True\n",
       "Name: EncodedPixels, Length: 22184, dtype: bool"
      ]
     },
     "execution_count": 16,
     "metadata": {},
     "output_type": "execute_result"
    }
   ],
   "source": [
    "corr_df[ 'EncodedPixels' ].isnull()"
   ]
  },
  {
   "cell_type": "markdown",
   "id": "377a8391",
   "metadata": {},
   "source": [
    "Il s'agit maintenant, de s'assurer que chaque ligne contenant un Nan ne possède que des 0 dans les variables indicatrices pour préciser l'absence de telle ou telle strucutre dans l'image."
   ]
  },
  {
   "cell_type": "code",
   "execution_count": 17,
   "id": "2c1f1dff",
   "metadata": {},
   "outputs": [
    {
     "data": {
      "text/html": [
       "<div>\n",
       "<style scoped>\n",
       "    .dataframe tbody tr th:only-of-type {\n",
       "        vertical-align: middle;\n",
       "    }\n",
       "\n",
       "    .dataframe tbody tr th {\n",
       "        vertical-align: top;\n",
       "    }\n",
       "\n",
       "    .dataframe thead th {\n",
       "        text-align: right;\n",
       "    }\n",
       "</style>\n",
       "<table border=\"1\" class=\"dataframe\">\n",
       "  <thead>\n",
       "    <tr style=\"text-align: right;\">\n",
       "      <th></th>\n",
       "      <th>image</th>\n",
       "      <th>EncodedPixels</th>\n",
       "      <th>label_Fish</th>\n",
       "      <th>label_Flower</th>\n",
       "      <th>label_Gravel</th>\n",
       "      <th>label_Sugar</th>\n",
       "    </tr>\n",
       "  </thead>\n",
       "  <tbody>\n",
       "    <tr>\n",
       "      <th>0</th>\n",
       "      <td>0011165.jpg</td>\n",
       "      <td>264918 937 266318 937 267718 937 269118 937 27...</td>\n",
       "      <td>1</td>\n",
       "      <td>0</td>\n",
       "      <td>0</td>\n",
       "      <td>0</td>\n",
       "    </tr>\n",
       "    <tr>\n",
       "      <th>1</th>\n",
       "      <td>0011165.jpg</td>\n",
       "      <td>1355565 1002 1356965 1002 1358365 1002 1359765...</td>\n",
       "      <td>0</td>\n",
       "      <td>1</td>\n",
       "      <td>0</td>\n",
       "      <td>0</td>\n",
       "    </tr>\n",
       "    <tr>\n",
       "      <th>2</th>\n",
       "      <td>0011165.jpg</td>\n",
       "      <td>NaN</td>\n",
       "      <td>0</td>\n",
       "      <td>0</td>\n",
       "      <td>0</td>\n",
       "      <td>0</td>\n",
       "    </tr>\n",
       "    <tr>\n",
       "      <th>3</th>\n",
       "      <td>0011165.jpg</td>\n",
       "      <td>NaN</td>\n",
       "      <td>0</td>\n",
       "      <td>0</td>\n",
       "      <td>0</td>\n",
       "      <td>0</td>\n",
       "    </tr>\n",
       "    <tr>\n",
       "      <th>4</th>\n",
       "      <td>002be4f.jpg</td>\n",
       "      <td>233813 878 235213 878 236613 878 238010 881 23...</td>\n",
       "      <td>1</td>\n",
       "      <td>0</td>\n",
       "      <td>0</td>\n",
       "      <td>0</td>\n",
       "    </tr>\n",
       "    <tr>\n",
       "      <th>5</th>\n",
       "      <td>002be4f.jpg</td>\n",
       "      <td>1339279 519 1340679 519 1342079 519 1343479 51...</td>\n",
       "      <td>0</td>\n",
       "      <td>1</td>\n",
       "      <td>0</td>\n",
       "      <td>0</td>\n",
       "    </tr>\n",
       "    <tr>\n",
       "      <th>6</th>\n",
       "      <td>002be4f.jpg</td>\n",
       "      <td>NaN</td>\n",
       "      <td>0</td>\n",
       "      <td>0</td>\n",
       "      <td>0</td>\n",
       "      <td>0</td>\n",
       "    </tr>\n",
       "    <tr>\n",
       "      <th>7</th>\n",
       "      <td>002be4f.jpg</td>\n",
       "      <td>67495 350 68895 350 70295 350 71695 350 73095 ...</td>\n",
       "      <td>0</td>\n",
       "      <td>0</td>\n",
       "      <td>0</td>\n",
       "      <td>1</td>\n",
       "    </tr>\n",
       "    <tr>\n",
       "      <th>8</th>\n",
       "      <td>0031ae9.jpg</td>\n",
       "      <td>3510 690 4910 690 6310 690 7710 690 9110 690 1...</td>\n",
       "      <td>1</td>\n",
       "      <td>0</td>\n",
       "      <td>0</td>\n",
       "      <td>0</td>\n",
       "    </tr>\n",
       "    <tr>\n",
       "      <th>9</th>\n",
       "      <td>0031ae9.jpg</td>\n",
       "      <td>2047 703 3447 703 4847 703 6247 703 7647 703 9...</td>\n",
       "      <td>0</td>\n",
       "      <td>1</td>\n",
       "      <td>0</td>\n",
       "      <td>0</td>\n",
       "    </tr>\n",
       "    <tr>\n",
       "      <th>10</th>\n",
       "      <td>0031ae9.jpg</td>\n",
       "      <td>NaN</td>\n",
       "      <td>0</td>\n",
       "      <td>0</td>\n",
       "      <td>0</td>\n",
       "      <td>0</td>\n",
       "    </tr>\n",
       "    <tr>\n",
       "      <th>11</th>\n",
       "      <td>0031ae9.jpg</td>\n",
       "      <td>658170 388 659570 388 660970 388 662370 388 66...</td>\n",
       "      <td>0</td>\n",
       "      <td>0</td>\n",
       "      <td>0</td>\n",
       "      <td>1</td>\n",
       "    </tr>\n",
       "  </tbody>\n",
       "</table>\n",
       "</div>"
      ],
      "text/plain": [
       "          image                                      EncodedPixels  \\\n",
       "0   0011165.jpg  264918 937 266318 937 267718 937 269118 937 27...   \n",
       "1   0011165.jpg  1355565 1002 1356965 1002 1358365 1002 1359765...   \n",
       "2   0011165.jpg                                                NaN   \n",
       "3   0011165.jpg                                                NaN   \n",
       "4   002be4f.jpg  233813 878 235213 878 236613 878 238010 881 23...   \n",
       "5   002be4f.jpg  1339279 519 1340679 519 1342079 519 1343479 51...   \n",
       "6   002be4f.jpg                                                NaN   \n",
       "7   002be4f.jpg  67495 350 68895 350 70295 350 71695 350 73095 ...   \n",
       "8   0031ae9.jpg  3510 690 4910 690 6310 690 7710 690 9110 690 1...   \n",
       "9   0031ae9.jpg  2047 703 3447 703 4847 703 6247 703 7647 703 9...   \n",
       "10  0031ae9.jpg                                                NaN   \n",
       "11  0031ae9.jpg  658170 388 659570 388 660970 388 662370 388 66...   \n",
       "\n",
       "    label_Fish  label_Flower  label_Gravel  label_Sugar  \n",
       "0            1             0             0            0  \n",
       "1            0             1             0            0  \n",
       "2            0             0             0            0  \n",
       "3            0             0             0            0  \n",
       "4            1             0             0            0  \n",
       "5            0             1             0            0  \n",
       "6            0             0             0            0  \n",
       "7            0             0             0            1  \n",
       "8            1             0             0            0  \n",
       "9            0             1             0            0  \n",
       "10           0             0             0            0  \n",
       "11           0             0             0            1  "
      ]
     },
     "execution_count": 17,
     "metadata": {},
     "output_type": "execute_result"
    }
   ],
   "source": [
    "vars_indic = ['label_Fish', 'label_Flower', 'label_Gravel', 'label_Sugar']\n",
    "#Recupération des index où il y a un Nan dans EncodedPixels\n",
    "idx_repl = corr_df[ corr_df[ 'EncodedPixels' ].isnull() ].index\n",
    "#Remplacement dans les vars indicatrices des 1 par 0 puisque pas de structures\n",
    "corr_df.iloc[idx_repl] = corr_df.iloc[idx_repl].replace(1,0)\n",
    "corr_df.head(12)"
   ]
  },
  {
   "cell_type": "markdown",
   "id": "0e1bdbb1",
   "metadata": {},
   "source": [
    "Reste une dernière étape où nous regroupons les informations par image. \n",
    "C'est-à-dire qu'aulieu d'avoir 4 observations par image, nous utilisons les indicatrices pour n'avoir plus qu'une seule observation par image."
   ]
  },
  {
   "cell_type": "code",
   "execution_count": 18,
   "id": "ccd1ebf8",
   "metadata": {},
   "outputs": [
    {
     "data": {
      "text/html": [
       "<div>\n",
       "<style scoped>\n",
       "    .dataframe tbody tr th:only-of-type {\n",
       "        vertical-align: middle;\n",
       "    }\n",
       "\n",
       "    .dataframe tbody tr th {\n",
       "        vertical-align: top;\n",
       "    }\n",
       "\n",
       "    .dataframe thead th {\n",
       "        text-align: right;\n",
       "    }\n",
       "</style>\n",
       "<table border=\"1\" class=\"dataframe\">\n",
       "  <thead>\n",
       "    <tr style=\"text-align: right;\">\n",
       "      <th></th>\n",
       "      <th>label_Fish</th>\n",
       "      <th>label_Flower</th>\n",
       "      <th>label_Gravel</th>\n",
       "      <th>label_Sugar</th>\n",
       "    </tr>\n",
       "    <tr>\n",
       "      <th>image</th>\n",
       "      <th></th>\n",
       "      <th></th>\n",
       "      <th></th>\n",
       "      <th></th>\n",
       "    </tr>\n",
       "  </thead>\n",
       "  <tbody>\n",
       "    <tr>\n",
       "      <th>0011165.jpg</th>\n",
       "      <td>1</td>\n",
       "      <td>1</td>\n",
       "      <td>0</td>\n",
       "      <td>0</td>\n",
       "    </tr>\n",
       "    <tr>\n",
       "      <th>002be4f.jpg</th>\n",
       "      <td>1</td>\n",
       "      <td>1</td>\n",
       "      <td>0</td>\n",
       "      <td>1</td>\n",
       "    </tr>\n",
       "    <tr>\n",
       "      <th>0031ae9.jpg</th>\n",
       "      <td>1</td>\n",
       "      <td>1</td>\n",
       "      <td>0</td>\n",
       "      <td>1</td>\n",
       "    </tr>\n",
       "    <tr>\n",
       "      <th>0035239.jpg</th>\n",
       "      <td>0</td>\n",
       "      <td>1</td>\n",
       "      <td>1</td>\n",
       "      <td>0</td>\n",
       "    </tr>\n",
       "    <tr>\n",
       "      <th>003994e.jpg</th>\n",
       "      <td>1</td>\n",
       "      <td>0</td>\n",
       "      <td>1</td>\n",
       "      <td>1</td>\n",
       "    </tr>\n",
       "  </tbody>\n",
       "</table>\n",
       "</div>"
      ],
      "text/plain": [
       "             label_Fish  label_Flower  label_Gravel  label_Sugar\n",
       "image                                                           \n",
       "0011165.jpg           1             1             0            0\n",
       "002be4f.jpg           1             1             0            1\n",
       "0031ae9.jpg           1             1             0            1\n",
       "0035239.jpg           0             1             1            0\n",
       "003994e.jpg           1             0             1            1"
      ]
     },
     "execution_count": 18,
     "metadata": {},
     "output_type": "execute_result"
    }
   ],
   "source": [
    "corr_df1 = corr_df.groupby('image')[vars_indic].max()\n",
    "corr_df1.head()"
   ]
  },
  {
   "cell_type": "code",
   "execution_count": 19,
   "id": "4c82e222",
   "metadata": {},
   "outputs": [
    {
     "data": {
      "text/plain": [
       "(5546, 4)"
      ]
     },
     "execution_count": 19,
     "metadata": {},
     "output_type": "execute_result"
    }
   ],
   "source": [
    "corr_df1.shape"
   ]
  },
  {
   "cell_type": "markdown",
   "id": "6b69fdf2",
   "metadata": {},
   "source": [
    "Avec ce tableau, qui contient autant d'observations que d'images dans le train_set, nous pouvons regarder les différentes corrélations à l'aide d'une heatmap."
   ]
  },
  {
   "cell_type": "code",
   "execution_count": 20,
   "id": "1b169e95",
   "metadata": {},
   "outputs": [
    {
     "data": {
      "image/png": "[encoded data removed]",
      "text/plain": [
       "<Figure size 432x288 with 2 Axes>"
      ]
     },
     "metadata": {
      "needs_background": "light"
     },
     "output_type": "display_data"
    }
   ],
   "source": [
    "import seaborn as sns\n",
    "#corr_val = corr_df1.value.T\n",
    "sns.heatmap(np.corrcoef(corr_df1.values.T), cbar = True, annot = True, cmap = 'coolwarm');"
   ]
  },
  {
   "cell_type": "markdown",
   "id": "c980f537",
   "metadata": {},
   "source": [
    "D'après la heatmap, on constate qu'il n'y a pas de réelle corrélation entre les différentes strucutres..."
   ]
  }
 ],
 "metadata": {
  "kernelspec": {
   "display_name": "Python 3",
   "language": "python",
   "name": "python3"
  },
  "language_info": {
   "codemirror_mode": {
    "name": "ipython",
    "version": 3
   },
   "file_extension": ".py",
   "mimetype": "text/x-python",
   "name": "python",
   "nbconvert_exporter": "python",
   "pygments_lexer": "ipython3",
   "version": "3.7.10"
  }
 },
 "nbformat": 4,
 "nbformat_minor": 5
}
